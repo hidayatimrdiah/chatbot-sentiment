{
 "cells": [
  {
   "cell_type": "code",
   "execution_count": 2,
   "id": "5c285874-d221-4d58-b3a6-1cba99c479ab",
   "metadata": {},
   "outputs": [],
   "source": [
    "import pandas as pd\n",
    "\n",
    "df = pd.read_csv('dataset/training_twitter.csv', encoding='latin-1')\n",
    "# Manually define each column a title to extract the values in the data\n",
    "df.columns = ['polarity','id','date','query','user','text']"
   ]
  },
  {
   "cell_type": "code",
   "execution_count": 3,
   "id": "6eb4ae3e-dc58-4d2a-ad5c-d300fcd4aeb1",
   "metadata": {},
   "outputs": [
    {
     "data": {
      "text/html": [
       "<div>\n",
       "<style scoped>\n",
       "    .dataframe tbody tr th:only-of-type {\n",
       "        vertical-align: middle;\n",
       "    }\n",
       "\n",
       "    .dataframe tbody tr th {\n",
       "        vertical-align: top;\n",
       "    }\n",
       "\n",
       "    .dataframe thead th {\n",
       "        text-align: right;\n",
       "    }\n",
       "</style>\n",
       "<table border=\"1\" class=\"dataframe\">\n",
       "  <thead>\n",
       "    <tr style=\"text-align: right;\">\n",
       "      <th></th>\n",
       "      <th>polarity</th>\n",
       "      <th>id</th>\n",
       "      <th>date</th>\n",
       "      <th>query</th>\n",
       "      <th>user</th>\n",
       "      <th>text</th>\n",
       "    </tr>\n",
       "  </thead>\n",
       "  <tbody>\n",
       "    <tr>\n",
       "      <th>0</th>\n",
       "      <td>0</td>\n",
       "      <td>1467810672</td>\n",
       "      <td>Mon Apr 06 22:19:49 PDT 2009</td>\n",
       "      <td>NO_QUERY</td>\n",
       "      <td>scotthamilton</td>\n",
       "      <td>is upset that he can't update his Facebook by ...</td>\n",
       "    </tr>\n",
       "    <tr>\n",
       "      <th>1</th>\n",
       "      <td>0</td>\n",
       "      <td>1467810917</td>\n",
       "      <td>Mon Apr 06 22:19:53 PDT 2009</td>\n",
       "      <td>NO_QUERY</td>\n",
       "      <td>mattycus</td>\n",
       "      <td>@Kenichan I dived many times for the ball. Man...</td>\n",
       "    </tr>\n",
       "    <tr>\n",
       "      <th>2</th>\n",
       "      <td>0</td>\n",
       "      <td>1467811184</td>\n",
       "      <td>Mon Apr 06 22:19:57 PDT 2009</td>\n",
       "      <td>NO_QUERY</td>\n",
       "      <td>ElleCTF</td>\n",
       "      <td>my whole body feels itchy and like its on fire</td>\n",
       "    </tr>\n",
       "    <tr>\n",
       "      <th>3</th>\n",
       "      <td>0</td>\n",
       "      <td>1467811193</td>\n",
       "      <td>Mon Apr 06 22:19:57 PDT 2009</td>\n",
       "      <td>NO_QUERY</td>\n",
       "      <td>Karoli</td>\n",
       "      <td>@nationwideclass no, it's not behaving at all....</td>\n",
       "    </tr>\n",
       "    <tr>\n",
       "      <th>4</th>\n",
       "      <td>0</td>\n",
       "      <td>1467811372</td>\n",
       "      <td>Mon Apr 06 22:20:00 PDT 2009</td>\n",
       "      <td>NO_QUERY</td>\n",
       "      <td>joy_wolf</td>\n",
       "      <td>@Kwesidei not the whole crew</td>\n",
       "    </tr>\n",
       "  </tbody>\n",
       "</table>\n",
       "</div>"
      ],
      "text/plain": [
       "   polarity          id                          date     query  \\\n",
       "0         0  1467810672  Mon Apr 06 22:19:49 PDT 2009  NO_QUERY   \n",
       "1         0  1467810917  Mon Apr 06 22:19:53 PDT 2009  NO_QUERY   \n",
       "2         0  1467811184  Mon Apr 06 22:19:57 PDT 2009  NO_QUERY   \n",
       "3         0  1467811193  Mon Apr 06 22:19:57 PDT 2009  NO_QUERY   \n",
       "4         0  1467811372  Mon Apr 06 22:20:00 PDT 2009  NO_QUERY   \n",
       "\n",
       "            user                                               text  \n",
       "0  scotthamilton  is upset that he can't update his Facebook by ...  \n",
       "1       mattycus  @Kenichan I dived many times for the ball. Man...  \n",
       "2        ElleCTF    my whole body feels itchy and like its on fire   \n",
       "3         Karoli  @nationwideclass no, it's not behaving at all....  \n",
       "4       joy_wolf                      @Kwesidei not the whole crew   "
      ]
     },
     "execution_count": 3,
     "metadata": {},
     "output_type": "execute_result"
    }
   ],
   "source": [
    "df.head()"
   ]
  },
  {
   "cell_type": "code",
   "execution_count": 4,
   "id": "6bf2a308-e10c-4e30-82ee-0560c59d6369",
   "metadata": {},
   "outputs": [
    {
     "data": {
      "text/plain": [
       "text\n",
       "isPlayer Has Died! Sorry                                                                              210\n",
       "good morning                                                                                          118\n",
       "headache                                                                                              115\n",
       "Good morning                                                                                          112\n",
       "Headache                                                                                              106\n",
       "                                                                                                     ... \n",
       "braces  tell me it will be okay...                                                                      1\n",
       "is stuck at home without curry                                                                          1\n",
       "@mrsduryee I've applied to about 70 since I lost my job in March...it certainly FEELS like a lot!       1\n",
       "The cheese I got @SarawithanR lost its squeak                                                           1\n",
       "happy #charitytuesday @theNSPCC @SparksCharity @SpeakingUpH4H                                           1\n",
       "Name: count, Length: 1581465, dtype: int64"
      ]
     },
     "execution_count": 4,
     "metadata": {},
     "output_type": "execute_result"
    }
   ],
   "source": [
    "df['text'].value_counts()"
   ]
  },
  {
   "cell_type": "code",
   "execution_count": 4,
   "id": "b6ccf946-d3b4-4809-9939-a7b271b9c841",
   "metadata": {},
   "outputs": [
    {
     "name": "stdout",
     "output_type": "stream",
     "text": [
      "this is a test hi\n"
     ]
    }
   ],
   "source": [
    "import re\n",
    "\n",
    "def preprocess_data(text):\n",
    "    text = text.lower()\n",
    "    text = re.sub(r\"(@|https?)\\S+|#\", '', text) # Remove mentions, urls and symbols           \n",
    "    text = re.sub(r\"[^a-zA-Z\\s]\", \"\", text)    # Remove punctuation and numbers\n",
    "    text = re.sub(r\"\\s+\", \" \", text).strip()   # Normalize spaces     \n",
    "    return text\n",
    "\n",
    "print(preprocess_data(\"This is A test! @Hello Hi http://example.com 😃\"))"
   ]
  },
  {
   "cell_type": "code",
   "execution_count": 7,
   "id": "2d25d01b-814b-4898-bd2b-7dd4f5196d40",
   "metadata": {},
   "outputs": [],
   "source": [
    "df['clean_text'] = df['text'].apply(preprocess_data)"
   ]
  },
  {
   "cell_type": "code",
   "execution_count": 8,
   "id": "e6e5c5fd-0046-4b6a-98da-163e6ca6d8fd",
   "metadata": {},
   "outputs": [
    {
     "data": {
      "text/plain": [
       "0          is upset that he cant update his facebook by t...\n",
       "1          i dived many times for the ball managed to sav...\n",
       "2             my whole body feels itchy and like its on fire\n",
       "3          no its not behaving at all im mad why am i her...\n",
       "4                                         not the whole crew\n",
       "                                 ...                        \n",
       "1599994    just woke up having no school is the best feel...\n",
       "1599995      thewdbcom very cool to hear old walt interviews\n",
       "1599996    are you ready for your mojo makeover ask me fo...\n",
       "1599997    happy th birthday to my boo of alll time tupac...\n",
       "1599998                                 happy charitytuesday\n",
       "Name: clean_text, Length: 1599999, dtype: object"
      ]
     },
     "execution_count": 8,
     "metadata": {},
     "output_type": "execute_result"
    }
   ],
   "source": [
    "df['clean_text']"
   ]
  },
  {
   "cell_type": "code",
   "execution_count": 30,
   "id": "fe3630cf-cf65-4311-950d-ebe70f65764d",
   "metadata": {},
   "outputs": [],
   "source": [
    "from sklearn.model_selection import train_test_split\n",
    "\n",
    "x = df['clean_text']\n",
    "y = df['polarity']\n",
    "\n",
    "x_train, x_test, y_train, y_test = train_test_split(x, y, test_size=0.2, random_state=42)"
   ]
  },
  {
   "cell_type": "code",
   "execution_count": 31,
   "id": "31ba0c6b-98d6-4256-95b5-1637209b43b4",
   "metadata": {},
   "outputs": [],
   "source": [
    "# First Technique is Bag of Words (Frequency Based)\n",
    "\n",
    "from sklearn.feature_extraction.text import CountVectorizer #(Bag of Words)\n",
    "\n",
    "vectorizer = CountVectorizer(max_features=100)\n",
    "x_train_vec_bow = vectorizer.fit_transform(x_train)\n",
    "x_test_vec_bow = vectorizer.transform(x_test)"
   ]
  },
  {
   "cell_type": "code",
   "execution_count": 11,
   "id": "f9d57491-c511-42cd-851d-61131459284d",
   "metadata": {},
   "outputs": [
    {
     "data": {
      "text/plain": [
       "<1279999x360847 sparse matrix of type '<class 'numpy.int64'>'\n",
       "\twith 14157805 stored elements in Compressed Sparse Row format>"
      ]
     },
     "execution_count": 11,
     "metadata": {},
     "output_type": "execute_result"
    }
   ],
   "source": [
    "x_train_vec_bow"
   ]
  },
  {
   "cell_type": "code",
   "execution_count": 12,
   "id": "79253d1d-829a-4ee4-be44-aea95e16ddbc",
   "metadata": {},
   "outputs": [],
   "source": [
    "# Second Technique is Word Embeddings\n",
    "\n",
    "from gensim.models import Word2Vec\n",
    "import gensim\n",
    "import nltk\n",
    "from nltk.tokenize import sent_tokenize, word_tokenize"
   ]
  },
  {
   "cell_type": "code",
   "execution_count": 13,
   "id": "09e117f2-d9ca-4cb0-9218-f18ef6ce6c54",
   "metadata": {},
   "outputs": [],
   "source": [
    "tokenized_data = [sentence.split() for sentence in x_train]\n",
    "\n",
    "# Train Word2Vec\n",
    "model1 = Word2Vec(sentences=tokenized_data, min_count=1, window=5)"
   ]
  },
  {
   "cell_type": "code",
   "execution_count": 14,
   "id": "38de83c1-af0c-402c-b70a-aa2df03b935c",
   "metadata": {},
   "outputs": [
    {
     "name": "stdout",
     "output_type": "stream",
     "text": [
      "[-2.7466056  -1.7800543   1.6042975   0.5779279  -1.7702662   1.1534855\n",
      " -1.7240819   0.21513402 -3.9005716   1.1322812  -0.78581476  2.879077\n",
      "  1.9969534  -1.7906826  -1.3932972  -0.94102234  2.544531   -1.92495\n",
      " -0.90698135 -2.7080054  -2.1358068   1.4760904  -0.35311005  2.2814522\n",
      "  0.48052394  0.3930552  -1.8237642  -2.4496949  -3.9316566  -0.4636517\n",
      "  0.6628385  -1.733045    1.9487039   1.8893884  -1.2860225  -1.2045921\n",
      " -0.21424031  1.2188512   2.3016996   1.2752763   1.4968098  -0.30844992\n",
      " -0.7840766   2.210443    2.008586    0.07678808 -1.1503472   0.8120698\n",
      " -1.123689   -0.6903408   1.9611881  -0.6907571   0.98440224  0.8728643\n",
      " -0.38464898  1.3542913  -1.1849657  -0.17653319  1.9857496  -0.24472387\n",
      " -3.324054    0.25898218  0.45042008 -1.3474292  -0.964384    3.03712\n",
      " -3.1576128   0.34577566 -2.543217    0.50256974  2.7966537   2.7633057\n",
      "  1.269399   -2.2949543  -1.9529835  -0.21156855  2.4826136  -2.152096\n",
      " -2.218153   -0.6804502  -3.8494244  -3.0320513  -0.97738194 -1.7822719\n",
      " -0.47177774  1.2003695  -0.845607    0.33415753 -0.67405695  1.8212779\n",
      " -1.139877   -1.7594273   0.426566    1.2613866   1.9635904   3.1627314\n",
      " -0.86362714  0.47878426  0.50768256  0.35669428]\n",
      "[('film', 0.7819784283638), ('movies', 0.6954406499862671), ('millionaire', 0.6460690498352051), ('trailer', 0.6441572904586792), ('flick', 0.6263682842254639), ('documentary', 0.623900830745697), ('hangover', 0.6091098189353943), ('wolverine', 0.6032155156135559), ('transformers', 0.6012704372406006), ('snl', 0.5994543433189392)]\n"
     ]
    }
   ],
   "source": [
    "# Testing the wordVec where movie is the vector and printing its outcome\n",
    "print(model1.wv[\"movie\"])  \n",
    "print(model1.wv.most_similar(\"movie\"))"
   ]
  },
  {
   "cell_type": "code",
   "execution_count": 15,
   "id": "7a1e8d69-0768-4518-a9fd-e37c9c00bb3f",
   "metadata": {},
   "outputs": [],
   "source": [
    "import numpy as np\n",
    "\n",
    "def meanEmbeddings(model, words):\n",
    "    # keep only words that are in the vocab\n",
    "    words = [word for word in words if word in model.wv]\n",
    "    \n",
    "    if len(words) > 0:\n",
    "        return np.mean(model.wv[words], axis=0)\n",
    "    else:\n",
    "        return np.zeros(model.vector_size)  # return zero vector if no valid words"
   ]
  },
  {
   "cell_type": "code",
   "execution_count": 16,
   "id": "3dbbaf27-d885-4ed2-8e24-74ee78f40420",
   "metadata": {},
   "outputs": [],
   "source": [
    "# Tokenize sentences first\n",
    "tokenized_train = [sentence.split() for sentence in x_train]\n",
    "tokenized_test  = [sentence.split() for sentence in x_test]\n",
    "\n",
    "# Convert each sentence into averaged embeddings\n",
    "x_train_w2v = np.array([meanEmbeddings(model1, words) for words in tokenized_train])\n",
    "x_test_w2v  = np.array([meanEmbeddings(model1, words) for words in tokenized_test])"
   ]
  },
  {
   "cell_type": "code",
   "execution_count": 32,
   "id": "1bb70c73-1db1-40e8-8209-0bae5a0655fd",
   "metadata": {},
   "outputs": [
    {
     "name": "stdout",
     "output_type": "stream",
     "text": [
      "Bag Of Words Accuracy On Logistic Regression: 0.661184375\n",
      "              precision    recall  f1-score   support\n",
      "\n",
      "           0       0.67      0.63      0.65    159494\n",
      "           4       0.65      0.69      0.67    160506\n",
      "\n",
      "    accuracy                           0.66    320000\n",
      "   macro avg       0.66      0.66      0.66    320000\n",
      "weighted avg       0.66      0.66      0.66    320000\n",
      "\n"
     ]
    }
   ],
   "source": [
    "from sklearn.linear_model import LogisticRegression\n",
    "from sklearn.metrics import accuracy_score, classification_report\n",
    "\n",
    "# Using Vectorized data from Bag of Words to train on Logistic Regression\n",
    "\n",
    "logreg = LogisticRegression(max_iter=1000)\n",
    "logreg.fit(x_train_vec_bow, y_train)\n",
    "y_pred_bow = logreg.predict(x_test_vec_bow)\n",
    "\n",
    "print(\"Bag Of Words Accuracy On Logistic Regression:\", accuracy_score(y_test, y_pred_bow))\n",
    "print(classification_report(y_test, y_pred_bow))"
   ]
  },
  {
   "cell_type": "code",
   "execution_count": 33,
   "id": "7a1cc609-a284-4f74-9d94-a9d52eb6105d",
   "metadata": {},
   "outputs": [],
   "source": [
    "import pickle\n",
    "pickle.dump(vectorizer, open(\"vectorizer.pkl\", \"wb\"))\n",
    "pickle.dump(logreg, open(\"logreg.pkl\", \"wb\"))"
   ]
  },
  {
   "cell_type": "code",
   "execution_count": 18,
   "id": "d6d15329-0ea9-40b1-a06e-884b733de050",
   "metadata": {},
   "outputs": [
    {
     "name": "stdout",
     "output_type": "stream",
     "text": [
      "Word2Vec Accuracy On Logistic Regression: 0.756303125\n",
      "              precision    recall  f1-score   support\n",
      "\n",
      "           0       0.76      0.76      0.76    160000\n",
      "           4       0.76      0.76      0.76    160000\n",
      "\n",
      "    accuracy                           0.76    320000\n",
      "   macro avg       0.76      0.76      0.76    320000\n",
      "weighted avg       0.76      0.76      0.76    320000\n",
      "\n"
     ]
    }
   ],
   "source": [
    "# Using Vectorized data from Word2Vec to train on Logistic Regression\n",
    "\n",
    "logreg.fit(x_train_w2v, y_train)\n",
    "y_pred_w2v = logreg.predict(x_test_w2v)\n",
    "\n",
    "print(\"Word2Vec Accuracy On Logistic Regression:\", accuracy_score(y_test, y_pred_w2v))\n",
    "print(classification_report(y_test, y_pred_w2v))"
   ]
  },
  {
   "cell_type": "code",
   "execution_count": 19,
   "id": "29a3ad18-4cad-4912-a108-0e4adaf08f06",
   "metadata": {},
   "outputs": [
    {
     "name": "stdout",
     "output_type": "stream",
     "text": [
      "Bag Of Words Accuracy On Naive Bayes: 0.780703125\n",
      "              precision    recall  f1-score   support\n",
      "\n",
      "           0       0.77      0.80      0.79    160000\n",
      "           4       0.79      0.76      0.78    160000\n",
      "\n",
      "    accuracy                           0.78    320000\n",
      "   macro avg       0.78      0.78      0.78    320000\n",
      "weighted avg       0.78      0.78      0.78    320000\n",
      "\n"
     ]
    }
   ],
   "source": [
    "from sklearn.naive_bayes import MultinomialNB\n",
    "\n",
    "naive_model = MultinomialNB()\n",
    "naive_model.fit(x_train_vec_bow, y_train)\n",
    "\n",
    "y_pred_bow = naive_model.predict(x_test_vec_bow)\n",
    "\n",
    "print(\"Bag Of Words Accuracy On Naive Bayes:\", accuracy_score(y_test, y_pred_bow))\n",
    "print(classification_report(y_test, y_pred_bow))"
   ]
  },
  {
   "cell_type": "code",
   "execution_count": 24,
   "id": "2f8a0b54-11e0-40d3-8bc3-9ffb002d8555",
   "metadata": {},
   "outputs": [
    {
     "name": "stdout",
     "output_type": "stream",
     "text": [
      "VADER Accuracy: 0.218596875\n",
      "              precision    recall  f1-score   support\n",
      "\n",
      "           0       0.80      0.44      0.57    160000\n",
      "           1       0.00      0.00      0.00         0\n",
      "           4       0.00      0.00      0.00    160000\n",
      "\n",
      "    accuracy                           0.22    320000\n",
      "   macro avg       0.27      0.15      0.19    320000\n",
      "weighted avg       0.40      0.22      0.28    320000\n",
      "\n"
     ]
    }
   ],
   "source": [
    "from vaderSentiment.vaderSentiment import SentimentIntensityAnalyzer\n",
    "\n",
    "# Initialize analyzer\n",
    "analyzer = SentimentIntensityAnalyzer()\n",
    "\n",
    "# Function to classify based on VADER compound score\n",
    "def vader_sentiment(sentence):\n",
    "    score = analyzer.polarity_scores(sentence)['compound']\n",
    "    if score >= 0:   \n",
    "        return 1     # positive\n",
    "    else:\n",
    "        return 0     # negative\n",
    "\n",
    "# Apply to test set\n",
    "y_pred_vader = [vader_sentiment(sentence) for sentence in x_test]\n",
    "\n",
    "# Evaluate\n",
    "print(\"VADER Accuracy:\", accuracy_score(y_test, y_pred_vader))\n",
    "print(classification_report(y_test, y_pred_vader,zero_division=0))"
   ]
  },
  {
   "cell_type": "code",
   "execution_count": 25,
   "id": "e12cd447-50de-4a9b-809d-4a63fc53c177",
   "metadata": {},
   "outputs": [
    {
     "data": {
      "image/png": "[encoded data removed]",
      "text/plain": [
       "<Figure size 640x480 with 1 Axes>"
      ]
     },
     "metadata": {},
     "output_type": "display_data"
    }
   ],
   "source": [
    "import matplotlib.pyplot as plt\n",
    "\n",
    "# Can't do Word2Vec on NaiveBayes because there are negative values so NaiveBayes doesnt work\n",
    "results = {\n",
    "    \"LogReg(BoW)\": accuracy_score(y_test, y_pred_bow),\n",
    "    \"LogReg(W2V)\":  accuracy_score(y_test, y_pred_w2v),\n",
    "    \"NaiveBayes(BoW)\": accuracy_score(y_test, y_pred_bow),\n",
    "    \"VADER\" : accuracy_score(y_test, y_pred_vader)\n",
    "}\n",
    "\n",
    "plt.bar(results.keys(), results.values(), color=[\"blue\", \"green\", \"red\",\"purple\"])\n",
    "plt.ylabel(\"Accuracy\")\n",
    "plt.title(\"Comparison of Sentiment Analysis Techniques\")\n",
    "plt.ylim(0, 1)\n",
    "\n",
    "plt.show()\n"
   ]
  },
  {
   "cell_type": "code",
   "execution_count": 5,
   "id": "bc717443-fcfa-43d4-9c82-765266caea77",
   "metadata": {},
   "outputs": [
    {
     "name": "stdout",
     "output_type": "stream",
     "text": [
      "* Running on local URL:  http://127.0.0.1:7862\n",
      "* To create a public link, set `share=True` in `launch()`.\n"
     ]
    },
    {
     "data": {
      "text/html": [
       "<div><iframe src=\"http://127.0.0.1:7862/\" width=\"100%\" height=\"500\" allow=\"autoplay; camera; microphone; clipboard-read; clipboard-write;\" frameborder=\"0\" allowfullscreen></iframe></div>"
      ],
      "text/plain": [
       "<IPython.core.display.HTML object>"
      ]
     },
     "metadata": {},
     "output_type": "display_data"
    },
    {
     "data": {
      "text/plain": []
     },
     "execution_count": 5,
     "metadata": {},
     "output_type": "execute_result"
    }
   ],
   "source": [
    "import pickle\n",
    "import gradio as gr\n",
    "\n",
    "# Load trained vectorizer and model (instead of redefining!)\n",
    "vectorizer = pickle.load(open(\"vectorizer.pkl\", \"rb\"))\n",
    "logreg = pickle.load(open(\"logreg.pkl\", \"rb\"))\n",
    "\n",
    "def chatbot_response(user_input):\n",
    "    text = user_input.lower()\n",
    "\n",
    "    # Rule-based responses \n",
    "    if any(word in text for word in [\"hi\", \"hello\", \"hey\"]):\n",
    "        return \"👋 Hello! How can I help you today?\"\n",
    "    if any(word in text for word in [\"bye\", \"goodbye\", \"see you\"]):\n",
    "        return \"👋 Goodbye! Take care!\"\n",
    "\n",
    "    # ML-based sentiment \n",
    "    cleaned = preprocess_data(user_input)\n",
    "    user_vec = vectorizer.transform([cleaned])\n",
    "    \n",
    "    proba = logreg.predict_proba(user_vec)[0]\n",
    "\n",
    "    # figure out which index is positive\n",
    "    if 4 in logreg.classes_:\n",
    "        pos_index = list(logreg.classes_).index(4)\n",
    "    else:\n",
    "        pos_index = list(logreg.classes_).index(1)\n",
    "\n",
    "    positive_prob = proba[pos_index]\n",
    "    negative_prob = 1 - positive_prob  \n",
    "\n",
    "    # Confidence indicates how confident the model think what sentiment of text is\n",
    "    if positive_prob > 0.49:\n",
    "        return f\"😊 I'm happy to hear that! (confidence: {positive_prob:.2f})\"\n",
    "    elif positive_prob < 0.5:\n",
    "        return f\"😔 I'm sorry to hear that. (confidence: {negative_prob:.2f})\"\n",
    "    else:\n",
    "        return f\"🤔 I'm not sure what to say.\"\n",
    "\n",
    "\n",
    "gr.Interface(\n",
    "    fn=chatbot_response,\n",
    "    inputs=\"text\",\n",
    "    outputs=\"text\",\n",
    "    title=\"Mini Chatbot \"\n",
    ").launch()"
   ]
  },
  {
   "cell_type": "code",
   "execution_count": null,
   "id": "40033535-9ab3-4680-86c7-a5e1aa106d7a",
   "metadata": {},
   "outputs": [],
   "source": []
  }
 ],
 "metadata": {
  "kernelspec": {
   "display_name": "Python 3 (ipykernel)",
   "language": "python",
   "name": "python3"
  },
  "language_info": {
   "codemirror_mode": {
    "name": "ipython",
    "version": 3
   },
   "file_extension": ".py",
   "mimetype": "text/x-python",
   "name": "python",
   "nbconvert_exporter": "python",
   "pygments_lexer": "ipython3",
   "version": "3.12.7"
  }
 },
 "nbformat": 4,
 "nbformat_minor": 5
}
